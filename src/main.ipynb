{
 "cells": [
  {
   "cell_type": "markdown",
   "metadata": {},
   "source": [
    "## Execute this two line when working with anaconda for automatically reload any new version of your code"
   ]
  },
  {
   "cell_type": "code",
   "execution_count": 1,
   "metadata": {},
   "outputs": [],
   "source": [
    "%load_ext autoreload\n",
    "%autoreload 2"
   ]
  },
  {
   "cell_type": "markdown",
   "metadata": {},
   "source": [
    "## Required methods"
   ]
  },
  {
   "cell_type": "code",
   "execution_count": 2,
   "metadata": {},
   "outputs": [],
   "source": [
    "def readFASTAs(fileName):\n",
    "\n",
    "    '''\n",
    "    :param fileName:\n",
    "    :return: rna sequences\n",
    "    '''\n",
    "    with open(fileName, 'r') as file:\n",
    "        v = []\n",
    "        genome = ''\n",
    "        for line in file:\n",
    "            if line[0] != '>':\n",
    "                genome += line.strip()\n",
    "            else:\n",
    "                v.append(genome.upper())\n",
    "                genome = ''\n",
    "        v.append(genome.upper())\n",
    "        del v[0]\n",
    "        return v\n",
    "\n",
    "def readLabels(fileName):\n",
    "\n",
    "    '''\n",
    "    :param fileName:\n",
    "    :return: label of rna sequences\n",
    "    '''\n",
    "    with open(fileName, 'r') as file:\n",
    "        v = []\n",
    "        i=0\n",
    "        for line in file:\n",
    "            if line != '\\n':\n",
    "                if i%2 == 0 and 'positive' in line.lower():\n",
    "                    v.append('True')\n",
    "                if i%2 == 0 and 'negative' in line.lower():\n",
    "                    v.append('False')    \n",
    "            i=i+1 \n",
    "        return v\n",
    "\n",
    "\n",
    "\n",
    "def fetchXY(fileName):\n",
    "    # print('Please, enter the full path of FASTA file:')\n",
    "    # X = readFASTA(input().strip())\n",
    "    #\n",
    "    # print('Please, enter the full path of label file:')\n",
    "    # Y = readLabel(input().strip())\n",
    "    #\n",
    "    # from sklearn.preprocessing import LabelEncoder\n",
    "    # Y = LabelEncoder().fit_transform(Y)\n",
    "    #\n",
    "    # assert len(X)==len(Y), 'Numbers of FASTA and numbers of type are not equal.'\n",
    "    \n",
    "    X = readFASTAs(fileName)\n",
    "    Y = readLabels(fileName)\n",
    "\n",
    "    \n",
    "    from sklearn.preprocessing import LabelEncoder\n",
    "    Y = LabelEncoder().fit_transform(Y)\n",
    "\n",
    "    assert len(X)==len(Y), 'Numbers of sequence and number of labels are not equal.'\n",
    "\n",
    "    return X, Y"
   ]
  },
  {
   "cell_type": "markdown",
   "metadata": {},
   "source": [
    "## Step 1 : Reading Dataset"
   ]
  },
  {
   "cell_type": "code",
   "execution_count": 3,
   "metadata": {},
   "outputs": [
    {
     "name": "stdout",
     "output_type": "stream",
     "text": [
      "\n",
      "Datasets fetching done.\n",
      "==================Details of X==============================\n",
      "Length of X: 244 \n",
      "Type: <class 'list'>\n",
      "UAUGGUCGCAAAGGUUUUCUUUAUUACGUUGCAGACUUCAGAAAAAAGUCA\n",
      "==================Details of Y==============================\n",
      "Length of X: 244 \n",
      "Type: <class 'numpy.ndarray'>\n",
      "1\n"
     ]
    }
   ],
   "source": [
    "#import read\n",
    "file_path= '../dataset/benchmark.txt'\n",
    "X, Y = fetchXY(file_path)\n",
    "print('\\nDatasets fetching done.')\n",
    "print('==================Details of X==============================')\n",
    "print('Length of X:',len(X),'\\nType:',type(X))\n",
    "print(X[0])\n",
    "print('==================Details of Y==============================')\n",
    "print('Length of X:',len(Y),'\\nType:',type(Y))\n",
    "print(Y[0])\n",
    "\n"
   ]
  },
  {
   "cell_type": "markdown",
   "metadata": {},
   "source": [
    "## Step 2: Feature Generation "
   ]
  },
  {
   "cell_type": "code",
   "execution_count": 4,
   "metadata": {},
   "outputs": [
    {
     "name": "stdout",
     "output_type": "stream",
     "text": [
      "Features extraction begins. Be patient! The machine will take some time.\n",
      "[[16.  8. 10. ...  0.  0.  1.]\n",
      " [18. 12.  6. ...  0.  0.  1.]\n",
      " [15. 20.  7. ...  0.  0.  1.]\n",
      " ...\n",
      " [20.  6. 12. ...  0.  0.  0.]\n",
      " [18. 12.  6. ...  0.  0.  0.]\n",
      " [15. 16.  4. ...  0.  0.  0.]]\n",
      "Features extraction ends.\n",
      "[Total extracted feature: 1375]\n",
      "\n"
     ]
    }
   ],
   "source": [
    "import generateFeatures\n",
    "\n",
    "#Composition of 3-mers\n",
    "pkTuple = 5\n",
    "#Composition of 5-gapped 3-mers\n",
    "#pkGap = 1\n",
    "psequenceType='RNA'\n",
    "\n",
    "#print(kmers('ABCD',3))\n",
    "print('Features extraction begins. Be patient! The machine will take some time.')\n",
    "\n",
    "T = generateFeatures.genFeatures(pkTuple,psequenceType, X, Y)\n",
    "\n",
    "print(T)\n",
    "X_train = T[:,:-1]\n",
    "Y_train = T[:,-1]\n",
    "print('Features extraction ends.')\n",
    "print('[Total extracted feature: {}]\\n'.format(X_train.shape[1]))\n",
    "#print(X_train[0])\n",
    "#print(X[0])\n",
    "#x=X[0]\n",
    "\n",
    "#A = x.count('A');\n",
    "#C = x.count('C');\n",
    "#G = x.count('G');\n",
    "#U = x.count('U')\n",
    "#print(len(X[1]),A,C,G,U)\n",
    "        \n",
    "#############################################################################\n"
   ]
  },
  {
   "cell_type": "markdown",
   "metadata": {},
   "source": [
    "## Step 3 : Save Generated Features "
   ]
  },
  {
   "cell_type": "code",
   "execution_count": 5,
   "metadata": {},
   "outputs": [
    {
     "name": "stdout",
     "output_type": "stream",
     "text": [
      "Converting (full) CSV is begin.\n",
      "Converting (full) CSV is end.\n"
     ]
    }
   ],
   "source": [
    "print('Converting (full) CSV is begin.')\n",
    "import store\n",
    "store.saveCSV(X_train, Y_train, 'full')\n",
    "print('Converting (full) CSV is end.')"
   ]
  },
  {
   "cell_type": "code",
   "execution_count": null,
   "metadata": {},
   "outputs": [],
   "source": []
  }
 ],
 "metadata": {
  "kernelspec": {
   "display_name": "Python 3",
   "language": "python",
   "name": "python3"
  },
  "language_info": {
   "codemirror_mode": {
    "name": "ipython",
    "version": 3
   },
   "file_extension": ".py",
   "mimetype": "text/x-python",
   "name": "python",
   "nbconvert_exporter": "python",
   "pygments_lexer": "ipython3",
   "version": "3.7.4"
  }
 },
 "nbformat": 4,
 "nbformat_minor": 4
}
